{
 "cells": [
  {
   "cell_type": "code",
   "execution_count": 85,
   "metadata": {},
   "outputs": [],
   "source": [
    "import pandas as pd\n",
    "pyd = pd.read_csv('partyPeryearPerRiding.csv', sep=r'\\s*,\\s*', header=0, engine='python')\n",
    "ypr: pd.DataFrame = pd.DataFrame(columns=['Election Date', 'Electoral District', 'Electorate', 'Votes Cast', 'IND', 'PCP', 'LIB', 'NDP','GPO'])\n",
    "yprto: pd.DataFrame = pd.read_csv('yearPerRidingTurnout.csv')\n",
    "parties = ['LIB','PCP','NDP','GPO','IND']\n",
    "#print(pyd.columns)\n"
   ]
  },
  {
   "cell_type": "markdown",
   "metadata": {},
   "source": [
    "Turn 'party per year per riding' data into consolidated 'per year per riding' data"
   ]
  },
  {
   "cell_type": "code",
   "execution_count": 86,
   "metadata": {},
   "outputs": [],
   "source": [
    "for riding in pyd['Electoral District'].unique():\n",
    "    pydFilterByRiding = pyd.loc[pyd['Electoral District'] == riding]\n",
    "    dataRow = {\"Electoral District\":riding}\n",
    "    for date in pydFilterByRiding['Election Date'].unique():\n",
    "        #print(dataRow)\n",
    "        pydFilterByDate = pydFilterByRiding.loc[pydFilterByRiding['Election Date'] == date]\n",
    "        dataRow['Election Date'] = date\n",
    "        dataRow['Votes Cast'] = pydFilterByDate['Votes Cast'].sum()\n",
    "        rsd = yprto.loc[(yprto['Electoral District'] == riding) & (yprto['Election Date'] == date)]\n",
    "        #print(rsd)\n",
    "        dataRow['Electorate'] = rsd['Registered Voters'].sum()\n",
    "        for party in pydFilterByDate['Party'].unique():\n",
    "            #print(dataRow)\n",
    "            if party in parties:\n",
    "                #print(dataRow)\n",
    "                pydFilterByParty = pydFilterByDate.loc[pydFilterByDate['Party'] == party]\n",
    "                dataRow[party] = pydFilterByParty['Votes Cast'].sum()\n",
    "        ypr = pd.concat([ypr, pd.DataFrame([dataRow])], ignore_index=True)\n",
    "    #print(ypr)\n",
    "\n",
    "ypr.to_csv('yearPerRiding.csv')\n",
    "#print(ypr)"
   ]
  },
  {
   "cell_type": "markdown",
   "metadata": {},
   "source": [
    "Then turn \"year per riding\" data into \"per riding\" data, calculated the delta of each party from the oldest record we have. We also want to calculate the delta between the liberals and the highest vote cast party (aside from the liberals) This can pull strategy in different directions, as ridings where liberals are competing with NDP are included with ridings where liberals are competed with PCP"
   ]
  },
  {
   "cell_type": "code",
   "execution_count": 88,
   "metadata": {},
   "outputs": [],
   "source": [
    "pr: pd.DataFrame = pd.DataFrame()\n",
    "for riding in ypr['Electoral District'].unique():\n",
    "    yprFilterByRiding: pd.DataFrame = ypr.loc[ypr['Electoral District'] == riding].sort_values('Election Date', ascending=False)\n",
    "    currentLibMargin = yprFilterByRiding.head(1)['LIB'].sum() - yprFilterByRiding.head(1)[parties].max(axis=1).sum()\n",
    "    oldLibMargin = yprFilterByRiding.tail(1)['LIB'].sum() - yprFilterByRiding.tail(1)[parties].max(axis=1).sum()\n",
    "    deltaLibMargin = currentLibMargin - oldLibMargin\n",
    "    dataRow = {\n",
    "        'Electoral District':riding, \n",
    "        'deltaPCP':yprFilterByRiding.head(1)['PCP'].sum()-yprFilterByRiding.tail(1)['PCP'].sum(),\n",
    "        'deltaLIB':yprFilterByRiding.head(1)['LIB'].sum()-yprFilterByRiding.tail(1)['LIB'].sum(),\n",
    "        'deltaNDP':yprFilterByRiding.head(1)['NDP'].sum()-yprFilterByRiding.tail(1)['NDP'].sum(),\n",
    "        'deltaGPO':yprFilterByRiding.head(1)['GPO'].sum()-yprFilterByRiding.tail(1)['GPO'].sum(),\n",
    "        'deltaLibMargin': deltaLibMargin,\n",
    "        'turnout':yprFilterByRiding.head(1)['Votes Cast'].values[0]/yprFilterByRiding.head(1)['Electorate'].values[0]\n",
    "        }\n",
    "    pr = pd.concat([pr, pd.DataFrame([dataRow])], ignore_index=True)\n",
    "pr.to_csv('perRiding.csv')\n",
    "    "
   ]
  },
  {
   "cell_type": "code",
   "execution_count": 89,
   "metadata": {},
   "outputs": [
    {
     "name": "stdout",
     "output_type": "stream",
     "text": [
      "                 Electoral District  deltaPCP  deltaLIB  deltaNDP  deltaGPO  \\\n",
      "144              Oak Ridges—Markham      6306    -28878       807      1222   \n",
      "152                         Vaughan      1559    -26174      1348       656   \n",
      "149                      St. Paul's      3065    -25048     -2068      1389   \n",
      "135                          Halton      1709    -23080      2001      1332   \n",
      "145                  Ottawa—Orléans      -478    -21857        43      1150   \n",
      "..                              ...       ...       ...       ...       ...   \n",
      "16                         Carleton     -3503      2684     -4052       552   \n",
      "74        Oakville North—Burlington     -3470      3144     -8823       -25   \n",
      "69                     Niagara West     -5615      3154     -5111       112   \n",
      "65                           Nepean     -6776      4646     -6675     -1043   \n",
      "4    Barrie—Springwater—Oro-Medonte     -3814     10125     -9798     -3655   \n",
      "\n",
      "     deltaLibMargin   turnout  \n",
      "144          -30256  0.455587  \n",
      "152          -16979  0.441771  \n",
      "149          -12037  0.565334  \n",
      "135          -24789  0.503225  \n",
      "145          -18525  0.586880  \n",
      "..              ...       ...  \n",
      "16             6187  0.486244  \n",
      "74             6614  0.465960  \n",
      "69             8769  0.528468  \n",
      "65            11422  0.456250  \n",
      "4             13939  0.464979  \n",
      "\n",
      "[155 rows x 7 columns]\n"
     ]
    }
   ],
   "source": [
    "print(pr.sort_values('deltaLIB'))"
   ]
  }
 ],
 "metadata": {
  "kernelspec": {
   "display_name": "Python 3",
   "language": "python",
   "name": "python3"
  },
  "language_info": {
   "codemirror_mode": {
    "name": "ipython",
    "version": 3
   },
   "file_extension": ".py",
   "mimetype": "text/x-python",
   "name": "python",
   "nbconvert_exporter": "python",
   "pygments_lexer": "ipython3",
   "version": "3.10.0"
  }
 },
 "nbformat": 4,
 "nbformat_minor": 2
}
